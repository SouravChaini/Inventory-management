{
 "cells": [
  {
   "cell_type": "markdown",
   "id": "99c513fb",
   "metadata": {},
   "source": [
    "## Read data"
   ]
  },
  {
   "cell_type": "code",
   "execution_count": 1,
   "id": "fbf39ba0",
   "metadata": {},
   "outputs": [],
   "source": [
    "f=open('stock.txt','r')\n",
    "r=f.read()\n",
    "f.close()"
   ]
  },
  {
   "cell_type": "code",
   "execution_count": 2,
   "id": "af6e7d24",
   "metadata": {},
   "outputs": [],
   "source": [
    "import json\n",
    "record=json.loads(r)"
   ]
  },
  {
   "cell_type": "code",
   "execution_count": 3,
   "id": "bd612a9a",
   "metadata": {},
   "outputs": [
    {
     "data": {
      "text/plain": [
       "{'1001': {'pname': 'Chocolate', 'pprice': 20, 'pquantity': 300},\n",
       " '1002': {'pname': 'Biscuits', 'pprice': 120, 'pquantity': 100},\n",
       " '1003': {'pname': 'Skin-care', 'pprice': 40, 'pquantity': 200},\n",
       " '1004': {'pname': 'Cereals', 'pprice': 90, 'pquantity': 900},\n",
       " '1005': {'pname': 'Drinks', 'pprice': 70, 'pquantity': 100},\n",
       " '1006': {'pname': 'Shirts', 'pprice': 260, 'pquantity': 1000}}"
      ]
     },
     "execution_count": 3,
     "metadata": {},
     "output_type": "execute_result"
    }
   ],
   "source": [
    "record"
   ]
  },
  {
   "cell_type": "markdown",
   "id": "a0e64add",
   "metadata": {},
   "source": [
    "## Taking input from administrator"
   ]
  },
  {
   "cell_type": "code",
   "execution_count": null,
   "id": "9e3c3f64",
   "metadata": {},
   "outputs": [],
   "source": [
    "Pid=input('Enter product id:')\n",
    "Pname=input('Enter product name:')\n",
    "Pprice=int(input('Enter the price of the product:'))\n",
    "pQuantity=int(input('Enter the quantity of the product:'))"
   ]
  },
  {
   "cell_type": "markdown",
   "id": "f63e93a8",
   "metadata": {},
   "source": [
    "## Updating the record"
   ]
  },
  {
   "cell_type": "code",
   "execution_count": null,
   "id": "828aaf3d",
   "metadata": {},
   "outputs": [],
   "source": [
    "newrecord={'pname':Pname, 'pprice':Pprice, 'pquantity': pQuantity}\n",
    "if Pid in record:\n",
    "    record[Pid]['pquantity']+=pQuantity\n",
    "    record[Pid]['pprice']=Pprice\n",
    "else:\n",
    "    record[Pid]=newrecord\n",
    "    "
   ]
  },
  {
   "cell_type": "markdown",
   "id": "9b9ec40f",
   "metadata": {},
   "source": [
    "## Saving back to the file"
   ]
  },
  {
   "cell_type": "code",
   "execution_count": null,
   "id": "889e9b0c",
   "metadata": {},
   "outputs": [],
   "source": [
    "js=json.dumps(record)\n",
    "f=open('stock.txt','w')\n",
    "f.write(js)\n",
    "f.close()"
   ]
  },
  {
   "cell_type": "code",
   "execution_count": null,
   "id": "7f422dd3",
   "metadata": {},
   "outputs": [],
   "source": []
  }
 ],
 "metadata": {
  "kernelspec": {
   "display_name": "Python 3 (ipykernel)",
   "language": "python",
   "name": "python3"
  },
  "language_info": {
   "codemirror_mode": {
    "name": "ipython",
    "version": 3
   },
   "file_extension": ".py",
   "mimetype": "text/x-python",
   "name": "python",
   "nbconvert_exporter": "python",
   "pygments_lexer": "ipython3",
   "version": "3.7.7"
  }
 },
 "nbformat": 4,
 "nbformat_minor": 5
}
