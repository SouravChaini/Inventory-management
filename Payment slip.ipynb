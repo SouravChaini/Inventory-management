{
 "cells": [
  {
   "cell_type": "code",
   "execution_count": 1,
   "id": "e068e5d4",
   "metadata": {},
   "outputs": [],
   "source": [
    "f=open('stock.txt','r')\n",
    "r=f.read()\n",
    "f.close()"
   ]
  },
  {
   "cell_type": "code",
   "execution_count": 2,
   "id": "e9df57a6",
   "metadata": {},
   "outputs": [
    {
     "data": {
      "text/plain": [
       "{'1001': {'pname': 'Chocolate', 'pprice': 20, 'pquantity': 250},\n",
       " '1002': {'pname': 'Biscuits', 'pprice': 120, 'pquantity': 100},\n",
       " '1003': {'pname': 'Skin-care', 'pprice': 40, 'pquantity': 200},\n",
       " '1004': {'pname': 'Cereals', 'pprice': 90, 'pquantity': 900},\n",
       " '1005': {'pname': 'Drinks', 'pprice': 70, 'pquantity': 100},\n",
       " '1006': {'pname': 'Shirts', 'pprice': 260, 'pquantity': 1000}}"
      ]
     },
     "execution_count": 2,
     "metadata": {},
     "output_type": "execute_result"
    }
   ],
   "source": [
    "import json\n",
    "record=json.loads(r)\n",
    "record"
   ]
  },
  {
   "cell_type": "markdown",
   "id": "7e5b4f16",
   "metadata": {},
   "source": [
    "## Take input from user"
   ]
  },
  {
   "cell_type": "code",
   "execution_count": null,
   "id": "a898a5e4",
   "metadata": {},
   "outputs": [],
   "source": [
    "price=0\n",
    "name=input('Enter your name:')\n",
    "while True:\n",
    "    u_pid=input('Enter the pid of product u want to buy:')\n",
    "    u_pq=int(input('Enter the quantity of product u want to buy:'))\n",
    "    \n",
    "    if record[u_pid]['pquantity']<u_pq:\n",
    "        print('Enter quantity exceeded the existed quantity :'+str(record[u_pid]['pquantity']))\n",
    "    else:\n",
    "        price+=record[u_pid]['pprice']*u_pq\n",
    "        record[u_pid]['pquantity']-=u_pq\n",
    "        \n",
    "    \n",
    "    if int(input('Do u want to buy more Enter 1 for Yes and 0 for No:')):\n",
    "        continue\n",
    "    else:\n",
    "        break\n"
   ]
  },
  {
   "cell_type": "markdown",
   "id": "728591a2",
   "metadata": {},
   "source": [
    "## Payment details"
   ]
  },
  {
   "cell_type": "code",
   "execution_count": null,
   "id": "632fdef4",
   "metadata": {},
   "outputs": [],
   "source": [
    "print('Customer name is'+name)\n",
    "print('Price paid for all the items is' +str(price))\n",
    "print('Thank-you for purchasing!!!!!')"
   ]
  },
  {
   "cell_type": "markdown",
   "id": "3f708f01",
   "metadata": {},
   "source": [
    "## Updating record"
   ]
  },
  {
   "cell_type": "code",
   "execution_count": null,
   "id": "81ef1793",
   "metadata": {},
   "outputs": [],
   "source": [
    "js=json.dumps(record)\n",
    "f=open('stock.txt','w')\n",
    "f.write(js)\n",
    "f.close()"
   ]
  },
  {
   "cell_type": "markdown",
   "id": "07fdbe29",
   "metadata": {},
   "source": [
    "## Sales"
   ]
  },
  {
   "cell_type": "code",
   "execution_count": null,
   "id": "f2605f43",
   "metadata": {},
   "outputs": [],
   "source": [
    "newSale={name:price}\n",
    "js=json.dumps(newSale)\n",
    "f=open('sales.txt','a')\n",
    "f.write(js)\n",
    "f.close()"
   ]
  }
 ],
 "metadata": {
  "kernelspec": {
   "display_name": "Python 3 (ipykernel)",
   "language": "python",
   "name": "python3"
  },
  "language_info": {
   "codemirror_mode": {
    "name": "ipython",
    "version": 3
   },
   "file_extension": ".py",
   "mimetype": "text/x-python",
   "name": "python",
   "nbconvert_exporter": "python",
   "pygments_lexer": "ipython3",
   "version": "3.7.7"
  }
 },
 "nbformat": 4,
 "nbformat_minor": 5
}
